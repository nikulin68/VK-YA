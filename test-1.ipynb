{
 "cells": [
  {
   "cell_type": "code",
   "execution_count": 35,
   "metadata": {},
   "outputs": [
    {
     "name": "stdout",
     "output_type": "stream",
     "text": [
      "[{'file_name': '266.jpg', 'size': 'z'},\n",
      " {'file_name': '346.jpg', 'size': 'y'},\n",
      " {'file_name': '465.jpg', 'size': 'z'},\n",
      " {'file_name': '476.jpg', 'size': 'z'},\n",
      " {'file_name': '572.jpg', 'size': 'y'},\n",
      " {'file_name': '469.jpg', 'size': 'z'},\n",
      " {'file_name': '294.jpg', 'size': 'y'},\n",
      " {'file_name': '321.jpg', 'size': 'y'}]\n",
      "Папка \"57827859\" создана на диске.\n"
     ]
    },
    {
     "name": "stderr",
     "output_type": "stream",
     "text": [
      "100%|██████████| 8/8 [00:04<00:00,  1.85it/s]\n"
     ]
    }
   ],
   "source": [
    "import requests\n",
    "import time\n",
    "import json\n",
    "from tqdm import tqdm\n",
    "from pprint import pprint\n",
    " \n",
    "class VkUser:\n",
    "    url = 'https://api.vk.com/method/'\n",
    "\n",
    "    def __init__(self, token, version):\n",
    "        self.token = token\n",
    "        self.version = version\n",
    "        self.params = {\n",
    "            'access_token': self.token,\n",
    "            'v': self.version,\n",
    "        }\n",
    "        self.owner_id = requests.get(self.url + 'users.get', self.params).json()['response'][0]['id']\n",
    "\n",
    "    def get_photos_links(self, user_id: str, qty_photos: str):\n",
    "        if user_id is None:\n",
    "            user_id = self.owner_id\n",
    "        followers_url = self.url + 'photos.get'\n",
    "        followers_params = {\n",
    "            'album_id': 'profile',\n",
    "            'count': qty_photos,\n",
    "            'user_id': user_id,\n",
    "            'extended': 1\n",
    "        }\n",
    "        res = requests.get(followers_url, params={**self.params, **followers_params})\n",
    "        complete_list = res.json()['response']['items']\n",
    "        photos_to_upload = []\n",
    "        url_names = []\n",
    "        for line in complete_list:\n",
    "            photo_info = {}\n",
    "            qty_likes = line['likes']['count']\n",
    "            photo_date = line['date']\n",
    "            biggest_photo = line['sizes'][-1]\n",
    "            photo_name = f'{qty_likes}.jpg'\n",
    "            for item in photos_to_upload:\n",
    "                if item['file_name'] == photo_name:\n",
    "                    photo_name = f'{qty_likes}_{photo_date}.jpg'\n",
    "            url_names.append([biggest_photo['url'], photo_name])\n",
    "            photo_info['file_name'] = photo_name\n",
    "            photo_info['size'] = biggest_photo['type']\n",
    "            photos_to_upload.append(photo_info)\n",
    "        with open('about_photos.json', 'w') as json_file:\n",
    "            json.dump(photos_to_upload, json_file)\n",
    "            pprint(photos_to_upload)\n",
    "        return url_names\n",
    "        \n",
    "\n",
    "class YaUploader:\n",
    "    def __init__(self, token: str, user_id: str):\n",
    "        self.token = token\n",
    "        self.user_id = user_id\n",
    "\n",
    "    def create_folder(self):\n",
    "        url = 'https://cloud-api.yandex.net/v1/disk/resources'\n",
    "        params = {'path': self.user_id}\n",
    "        headers = {'Authorization': self.token}\n",
    "        response = requests.put(url, params=params, headers=headers)\n",
    "        if response.status_code == 201:\n",
    "            print(f'Папка \"{self.user_id}\" создана на диске.')\n",
    "        else:\n",
    "            error_message = response.json()['message']\n",
    "            pprint(f'Ошибка код - {response.status_code}: {error_message}')\n",
    "\n",
    "    def upload_from_url(self, lst_link_name):\n",
    "        for link, name in tqdm(lst_link_name):\n",
    "            response = requests.post('https://cloud-api.yandex.net/v1/disk/resources/upload',\n",
    "                                     params={'path': f\"{self.user_id}/{name}\",\n",
    "                                             'url': link},\n",
    "                                     headers={'Authorization': f'OAuth {self.token}'})\n",
    "            if response.status_code == 202:\n",
    "                time.sleep(0.1)\n",
    "        return\n",
    "\n",
    "\n",
    "if __name__ == '__main__':\n",
    "    user_id = ''\n",
    "    qty_photos = str(input('Введите количество фото для загрузки: '))\n",
    "    ya_token = ''\n",
    "    token_vk = ''\n",
    "    vk_client = VkUser(token_vk, '5.130')\n",
    "    list_of_links = vk_client.get_photos_links(user_id, qty_photos)\n",
    "    uploader = YaUploader(ya_token, user_id)\n",
    "    uploader.create_folder()\n",
    "    uploader.upload_from_url(list_of_links)"
   ]
  }
 ],
 "metadata": {
  "interpreter": {
   "hash": "31f2aee4e71d21fbe5cf8b01ff0e069b9275f58929596ceb00d14d90e3e16cd6"
  },
  "kernelspec": {
   "display_name": "Python 3.8.9 64-bit",
   "language": "python",
   "name": "python3"
  },
  "language_info": {
   "codemirror_mode": {
    "name": "ipython",
    "version": 3
   },
   "file_extension": ".py",
   "mimetype": "text/x-python",
   "name": "python",
   "nbconvert_exporter": "python",
   "pygments_lexer": "ipython3",
   "version": "3.8.9"
  },
  "orig_nbformat": 4
 },
 "nbformat": 4,
 "nbformat_minor": 2
}
